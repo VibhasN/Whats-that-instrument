{
  "nbformat": 4,
  "nbformat_minor": 0,
  "metadata": {
    "colab": {
      "name": "data-preprocessing_IRMAS.ipynb",
      "provenance": [],
      "collapsed_sections": [],
      "include_colab_link": true
    },
    "kernelspec": {
      "name": "python3",
      "display_name": "Python 3"
    },
    "language_info": {
      "name": "python"
    }
  },
  "cells": [
    {
      "cell_type": "markdown",
      "metadata": {
        "id": "view-in-github",
        "colab_type": "text"
      },
      "source": [
        "<a href=\"https://colab.research.google.com/github/thef1tnessgram/Sound/blob/main/data_preprocessing_IRMAS.ipynb\" target=\"_parent\"><img src=\"https://colab.research.google.com/assets/colab-badge.svg\" alt=\"Open In Colab\"/></a>"
      ]
    },
    {
      "cell_type": "code",
      "metadata": {
        "id": "DzfJgjESSRkW"
      },
      "source": [
        "# download files\n",
        "!wget https://zenodo.org/record/1290750/files/IRMAS-TrainingData.zip?download=1\n",
        "# rename file\n",
        "!mv /content/IRMAS-TrainingData.zip?download=1 /content/IRMAS-TrainingData.zip\n",
        "# unzip files\n",
        "!unzip -xoq /content/IRMAS-TrainingData.zip"
      ],
      "execution_count": null,
      "outputs": []
    },
    {
      "cell_type": "code",
      "metadata": {
        "id": "xXraqdKPTU98"
      },
      "source": [
        "# adapted from:\n",
        "# https://www.kaggle.com/msripooja/steps-to-convert-audio-clip-to-spectrogram\n",
        "\n",
        "import os\n",
        "import matplotlib.pyplot as plt\n",
        "import librosa\n",
        "import librosa.display"
      ],
      "execution_count": null,
      "outputs": []
    },
    {
      "cell_type": "code",
      "metadata": {
        "id": "3Z5Hvr6qaUzK"
      },
      "source": [
        "# dataset_home is where IRMAS-TrainingData is located\n",
        "# destination is new dataset of images\n",
        "dataset_home = \"/content/IRMAS-TrainingData\"\n",
        "destination = \"/content/drive/MyDrive/Junior-Year/ML/instrument_dataset\"\n",
        "\n",
        "os.makedirs(destination, exist_ok=True)\n",
        "for instrument in os.listdir(\"/content/IRMAS-TrainingData\"):\n",
        "  if instrument == \"README.txt\": continue\n",
        "  os.makedirs(os.path.join(destination,instrument), exist_ok=True)"
      ],
      "execution_count": null,
      "outputs": []
    },
    {
      "cell_type": "code",
      "metadata": {
        "id": "o1LPReMnZCGx"
      },
      "source": [
        "def convert_to_spectrogram(dataset_home, destination, subdir):\n",
        "  audio_fpath = os.path.join(dataset_home, subdir)\n",
        "  audio_clips = os.listdir(audio_fpath)\n",
        "  for number, clip in enumerate(audio_clips):\n",
        "    x, sr = librosa.load(os.path.join(audio_fpath, clip), sr=44100, offset=0, duration=2)\n",
        "    X = librosa.stft(x)\n",
        "    Xdb = librosa.amplitude_to_db(abs(X))\n",
        "    fig = plt.figure(figsize=(14, 5))\n",
        "    p = librosa.display.specshow(Xdb, sr=sr, x_axis=None, y_axis='log')\n",
        "    y_axis = p.axes.get_yaxis()\n",
        "    # https://stackoverflow.com/questions/9295026/matplotlib-plots-removing-axis-legends-and-white-spaces\n",
        "    y_axis.set_visible(False)\n",
        "    # https://stackoverflow.com/questions/52432731/store-the-spectrogram-as-image-in-python/52683474\n",
        "    fig.savefig(os.path.join(destination, subdir, subdir + str(number)) + \".png\")\n",
        "    plt.close(fig)\n",
        "    del x, sr, X, Xdb, p, fig, y_axis"
      ],
      "execution_count": null,
      "outputs": []
    },
    {
      "cell_type": "code",
      "metadata": {
        "id": "dBevsiOuZ5X5"
      },
      "source": [
        "# due to RAM issues, each subdir can be processed separately, restart runtime in between\n",
        "for subdir in os.listdir(dataset_home):\n",
        "  if subdir == \"README.txt\": continue\n",
        "  convert_to_spectrogram(dataset_home, destination, subdir)\n",
        "  librosa.cache.clear()"
      ],
      "execution_count": null,
      "outputs": []
    },
    {
      "cell_type": "code",
      "metadata": {
        "id": "jjmdTRs-Zaq2"
      },
      "source": [
        "# example for separate processing:\n",
        "convert_to_spectrogram(dataset_home, destination, \"cel\")"
      ],
      "execution_count": null,
      "outputs": []
    }
  ]
}